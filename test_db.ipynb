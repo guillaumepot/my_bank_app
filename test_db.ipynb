{
 "cells": [
  {
   "cell_type": "code",
   "execution_count": 2,
   "metadata": {},
   "outputs": [],
   "source": [
    "postgres_host=\"localhost\"\n",
    "postgres_port=5432\n",
    "postgres_user=\"root\"\n",
    "postgres_password= \"root\"\n",
    "postgres_db = 'bank_db'\n",
    "\n",
    "import psycopg2\n",
    "from psycopg2.extras import DictCursor\n"
   ]
  },
  {
   "cell_type": "code",
   "execution_count": 3,
   "metadata": {},
   "outputs": [],
   "source": [
    "def connect_to_db() -> psycopg2.extensions.connection:\n",
    "    \"\"\"\n",
    "    Connects to the database using the provided credentials.\n",
    "\n",
    "    Returns:\n",
    "        psycopg2.extensions.connection: A connection object representing the database connection.\n",
    "    \"\"\"\n",
    "    engine = psycopg2.connect(dbname=postgres_db,\n",
    "                            user=postgres_user,\n",
    "                            password=postgres_password,\n",
    "                            host=postgres_host,\n",
    "                            port=postgres_port)\n",
    "    \n",
    "    return engine\n",
    "\n",
    "\n",
    "def transform_additional(additional):\n",
    "    if isinstance(additional, str):\n",
    "        return (additional,)\n",
    "    else:\n",
    "        return additional\n"
   ]
  },
  {
   "cell_type": "code",
   "execution_count": 4,
   "metadata": {},
   "outputs": [],
   "source": [
    "def query_for_informations(request_to_do:str=None, additional=None) -> dict:\n",
    "    \"\"\"\n",
    "    \n",
    "    \"\"\"\n",
    "    additional = transform_additional(additional)\n",
    "\n",
    "    # Initialize query\n",
    "    if request_to_do == 'get_username_informations':\n",
    "        query = \"SELECT * FROM users WHERE username=%s\"\n",
    "\n",
    "    if request_to_do == 'get_existing_accounts':\n",
    "        query = 'SELECT * FROM accounts'\n",
    "\n",
    "    if request_to_do == 'get_existing_budgets':\n",
    "        query = 'SELECT * FROM budgets'\n",
    "\n",
    "    if request_to_do == 'get_existing_transactions':\n",
    "        query = 'SELECT * FROM transactions'\n",
    "\n",
    "\n",
    "\n",
    "    # Get engine\n",
    "    engine = connect_to_db()\n",
    "\n",
    "\n",
    "    # Apply Query\n",
    "    with engine as conn:\n",
    "        try:\n",
    "            with conn.cursor(cursor_factory=DictCursor) as cur:\n",
    "                try:\n",
    "                    cur.execute(query, additional)\n",
    "                    results = cur.fetchall()\n",
    "                    print(f'results: {results}')\n",
    "                    if results == None:\n",
    "                        return {}\n",
    "                    return results\n",
    "\n",
    "\n",
    "                except psycopg2.OperationalError as e:\n",
    "                    print(f\"Could not execute the query. Error: {e}\")\n",
    "\n",
    "        except psycopg2.OperationalError as e:\n",
    "            print(f\"Could not connect to the database. Error: {e}\")\n"
   ]
  },
  {
   "cell_type": "code",
   "execution_count": 5,
   "metadata": {},
   "outputs": [],
   "source": [
    "def query_insert_values(request_to_do:str=None, additional=None) -> None:\n",
    "    \"\"\"\n",
    "    \n",
    "    \"\"\"\n",
    "    additional = transform_additional(additional)\n",
    "\n",
    "    # initialize query\n",
    "    if request_to_do == 'create_new_account':\n",
    "        query = 'INSERT INTO accounts (id, name, type, balance, owner, history) VALUES (%s, %s, %s, %s, %s, %s)'\n",
    "    if request_to_do == 'delete_account':\n",
    "        query = 'DELETE FROM accounts WHERE id=%s'\n",
    "\n",
    "    if request_to_do == 'create_new_budget':\n",
    "        query = 'INSERT INTO budgets (id, name, month, amount, history) VALUES (%s, %s, %s, %s, %s)'\n",
    "    if request_to_do == 'delete_budget':\n",
    "        query = 'DELETE FROM budgets WHERE id=%s'\n",
    "\n",
    "    if request_to_do == 'create_new_transaction':\n",
    "        query = 'INSERT INTO transactions (id, date, type, amount, origin_account, destination_account, budget, category, description) VALUES (%s, %s, %s, %s, %s, %s, %s, %s, %s)'\n",
    "    if request_to_do == 'apply_transaction_to_budget':\n",
    "        query = \"\"\"\n",
    "        UPDATE budgets \n",
    "        SET amount = amount - %s, history = jsonb_insert(history, '{transaction_ids}', to_jsonb(%s::text), true) \n",
    "        WHERE id = %s\n",
    "        \"\"\"\n",
    "    if request_to_do == 'apply_transaction_to_accounts':\n",
    "        # tuple to list\n",
    "        additional_list = list(additional)\n",
    "        # transaction type & remove it from additional\n",
    "        type = additional[0]\n",
    "        additional_list.pop(0)\n",
    "\n",
    "        if type == 'credit':\n",
    "            # Remove origin account from additional and convert back to tuple\n",
    "            additional_list.pop(2)\n",
    "            additional = tuple(additional_list)\n",
    "            query = \"\"\"\n",
    "            UPDATE accounts\n",
    "            SET balance = balance + %s, history = jsonb_insert(history, '{transaction_ids}', to_jsonb(%s::text), true)\n",
    "            WHERE id = %s\n",
    "            \"\"\"\n",
    "        if type == 'debit':\n",
    "            # Remove destination account from additional and convert back to tuple\n",
    "            additional_list.pop(3)\n",
    "            additional = tuple(additional_list)\n",
    "            query = \"\"\"\n",
    "            UPDATE accounts\n",
    "            SET balance = balance - %s, history = jsonb_insert(history, '{transaction_ids}', to_jsonb(%s::text), true)\n",
    "            WHERE id = %s\n",
    "            \"\"\"\n",
    "        if type == 'transfert':\n",
    "            # Extract values from additional\n",
    "            transaction_amount, transaction_id, origin_account, destination_account = additional\n",
    "\n",
    "            # Query to decrease balance of origin account and add transaction id to history\n",
    "            query1 = \"\"\"\n",
    "            UPDATE accounts\n",
    "            SET balance = balance - %s, history = jsonb_insert(history, '{transaction_ids}', to_jsonb(%s::text), true)\n",
    "            WHERE id = %s\n",
    "            \"\"\" % (transaction_amount, transaction_id, origin_account)\n",
    "\n",
    "            # Query to increase balance of destination account and add transaction id to history\n",
    "            query2 = \"\"\"\n",
    "            UPDATE accounts\n",
    "            SET balance = balance + %s, history = jsonb_insert(history, '{transaction_ids}', to_jsonb(%s::text), true)\n",
    "            WHERE id = %s\n",
    "            \"\"\" % (transaction_amount, transaction_id, destination_account)\n",
    "\n",
    "            # Combine queries\n",
    "            query = query1 + query2\n",
    "\n",
    "    # Get engine\n",
    "    engine = connect_to_db()\n",
    "\n",
    "\n",
    "    # Apply Query\n",
    "    with engine as conn:\n",
    "        try:\n",
    "            with conn.cursor(cursor_factory=DictCursor) as cur:\n",
    "                try:\n",
    "                    cur.execute(query, additional)\n",
    "                    conn.commit()\n",
    "\n",
    "                except psycopg2.OperationalError as e:\n",
    "                    print(f\"Could not execute the query. Error: {e}\")\n",
    "\n",
    "        except psycopg2.OperationalError as e:\n",
    "            print(f\"Could not connect to the database. Error: {e}\")"
   ]
  },
  {
   "cell_type": "code",
   "execution_count": 7,
   "metadata": {},
   "outputs": [
    {
     "name": "stdout",
     "output_type": "stream",
     "text": [
      "results: [['24549c65-f223-4090-bc92-d3b7107d8635', 'default', 'N/A', 0.0, {}, datetime.datetime(2024, 6, 6, 7, 19, 50, 985282), datetime.datetime(2024, 6, 6, 7, 19, 50, 985282)], ['2d74549c-6d9c-4ccb-8a82-c3f8bae3b73a', 'budget_test_transactions', 'June', 10000000.0, {}, datetime.datetime(2024, 6, 6, 15, 35, 50, 390358), datetime.datetime(2024, 6, 6, 15, 35, 50, 390358)]]\n"
     ]
    },
    {
     "data": {
      "text/plain": [
       "'2d74549c-6d9c-4ccb-8a82-c3f8bae3b73a'"
      ]
     },
     "execution_count": 7,
     "metadata": {},
     "output_type": "execute_result"
    }
   ],
   "source": [
    "request_to_do = 'get_existing_budgets'\n",
    "additional = None\n",
    "\n",
    "results = query_for_informations(request_to_do=request_to_do, additional=additional)\n",
    "default_budget_id = str([budget[0] for budget in results if budget[1] == 'budget_test_transactions'][0])\n",
    "default_budget_id"
   ]
  },
  {
   "cell_type": "code",
   "execution_count": 60,
   "metadata": {},
   "outputs": [
    {
     "data": {
      "text/plain": [
       "[]"
      ]
     },
     "execution_count": 60,
     "metadata": {},
     "output_type": "execute_result"
    }
   ],
   "source": [
    "existing_budgets = [result[1:3] for result in results]\n",
    "existing_budgets"
   ]
  }
 ],
 "metadata": {
  "kernelspec": {
   "display_name": "base",
   "language": "python",
   "name": "python3"
  },
  "language_info": {
   "codemirror_mode": {
    "name": "ipython",
    "version": 3
   },
   "file_extension": ".py",
   "mimetype": "text/x-python",
   "name": "python",
   "nbconvert_exporter": "python",
   "pygments_lexer": "ipython3",
   "version": "3.10.12"
  }
 },
 "nbformat": 4,
 "nbformat_minor": 2
}
