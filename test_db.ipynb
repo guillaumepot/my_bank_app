{
 "cells": [
  {
   "cell_type": "code",
   "execution_count": 1,
   "metadata": {},
   "outputs": [],
   "source": [
    "postgres_host=\"localhost\"\n",
    "postgres_port=5432\n",
    "postgres_user=\"root\"\n",
    "postgres_password= \"root\"\n",
    "postgres_db = 'bank_db'\n",
    "\n",
    "import psycopg2\n",
    "from psycopg2.extras import DictCursor\n"
   ]
  },
  {
   "cell_type": "code",
   "execution_count": 43,
   "metadata": {},
   "outputs": [],
   "source": [
    "def connect_to_db() -> psycopg2.extensions.connection:\n",
    "    \"\"\"\n",
    "    Connects to the database using the provided credentials.\n",
    "\n",
    "    Returns:\n",
    "        psycopg2.extensions.connection: A connection object representing the database connection.\n",
    "    \"\"\"\n",
    "    engine = psycopg2.connect(dbname=postgres_db,\n",
    "                            user=postgres_user,\n",
    "                            password=postgres_password,\n",
    "                            host=postgres_host,\n",
    "                            port=postgres_port)\n",
    "    \n",
    "    return engine\n",
    "\n",
    "\n",
    "def transform_additional(additional):\n",
    "    if isinstance(additional, str):\n",
    "        return (additional,)\n",
    "    else:\n",
    "        return additional\n"
   ]
  },
  {
   "cell_type": "code",
   "execution_count": 44,
   "metadata": {},
   "outputs": [],
   "source": [
    "def query_for_informations(request_to_do:str=None, additional=None) -> dict:\n",
    "    \"\"\"\n",
    "    \n",
    "    \"\"\"\n",
    "    additional = transform_additional(additional)\n",
    "\n",
    "    # Initialize query\n",
    "    if request_to_do == 'get_username_informations':\n",
    "        query = \"SELECT * FROM users WHERE username=%s\"\n",
    "\n",
    "    if request_to_do == 'get_existing_accounts':\n",
    "        query = 'SELECT * FROM accounts'\n",
    "\n",
    "    if request_to_do == 'get_existing_budgets':\n",
    "        query = 'SELECT * FROM budgets'\n",
    "\n",
    "\n",
    "\n",
    "    # Get engine\n",
    "    engine = connect_to_db()\n",
    "\n",
    "\n",
    "    # Apply Query\n",
    "    with engine as conn:\n",
    "        try:\n",
    "            with conn.cursor(cursor_factory=DictCursor) as cur:\n",
    "                try:\n",
    "                    cur.execute(query, additional)\n",
    "                    results = cur.fetchall()\n",
    "                    print(f'results: {results}')\n",
    "                    if results == None:\n",
    "                        return {}\n",
    "                    return results\n",
    "\n",
    "\n",
    "                except psycopg2.OperationalError as e:\n",
    "                    print(f\"Could not execute the query. Error: {e}\")\n",
    "\n",
    "        except psycopg2.OperationalError as e:\n",
    "            print(f\"Could not connect to the database. Error: {e}\")"
   ]
  },
  {
   "cell_type": "code",
   "execution_count": 49,
   "metadata": {},
   "outputs": [],
   "source": [
    "def query_insert_values(request_to_do:str=None, additional=None) -> None:\n",
    "    \"\"\"\n",
    "    \n",
    "    \"\"\"\n",
    "    additional = transform_additional(additional)\n",
    "\n",
    "    # initialize query\n",
    "    if request_to_do == 'create_new_account':\n",
    "        query = 'INSERT INTO accounts (id, name, type, balance, owner, history) VALUES (%s, %s, %s, %s, %s, %s)'\n",
    "    if request_to_do == 'delete_account':\n",
    "        query = 'DELETE FROM accounts WHERE id=%s'\n",
    "    if request_to_do == 'create_new_budget':\n",
    "        query = 'INSERT INTO budgets (id, name, month, amount, history) VALUES (%s, %s, %s, %s, %s)'\n",
    "    if request_to_do == 'delete_budget':\n",
    "        query = 'DELETE FROM budgets WHERE id=%s'\n",
    "\n",
    "\n",
    "    # Get engine\n",
    "    engine = connect_to_db()\n",
    "\n",
    "\n",
    "    # Apply Query\n",
    "    with engine as conn:\n",
    "        try:\n",
    "            with conn.cursor(cursor_factory=DictCursor) as cur:\n",
    "                try:\n",
    "                    cur.execute(query, additional)\n",
    "                    conn.commit()\n",
    "\n",
    "                except psycopg2.OperationalError as e:\n",
    "                    print(f\"Could not execute the query. Error: {e}\")\n",
    "\n",
    "        except psycopg2.OperationalError as e:\n",
    "            print(f\"Could not connect to the database. Error: {e}\")\n",
    "\n"
   ]
  },
  {
   "cell_type": "code",
   "execution_count": 39,
   "metadata": {},
   "outputs": [
    {
     "name": "stdout",
     "output_type": "stream",
     "text": [
      "results: [['24549c65-f223-4090-bc92-d3b7107d8635', 'default', 'N/A', 0.0, {}, datetime.datetime(2024, 6, 6, 7, 19, 50, 985282), datetime.datetime(2024, 6, 6, 7, 19, 50, 985282)]]\n"
     ]
    }
   ],
   "source": [
    "request_to_do = 'get_existing_budgets'\n",
    "additional = None\n",
    "\n",
    "results = query_for_informations(request_to_do=request_to_do, additional=additional)"
   ]
  },
  {
   "cell_type": "code",
   "execution_count": 41,
   "metadata": {},
   "outputs": [
    {
     "data": {
      "text/plain": [
       "[['default', 'N/A']]"
      ]
     },
     "execution_count": 41,
     "metadata": {},
     "output_type": "execute_result"
    }
   ],
   "source": [
    "existing_budgets = [result[1:3] for result in results]\n",
    "existing_budgets"
   ]
  },
  {
   "cell_type": "code",
   "execution_count": 50,
   "metadata": {},
   "outputs": [],
   "source": [
    "import json\n",
    "import uuid\n",
    "request_to_do = 'delete_budget'\n",
    "additional = 'dd2cc992-ffb2-4e29-bf99-2e0335fc352b'\n",
    "\n",
    "\n",
    "query_insert_values(request_to_do=request_to_do, additional=additional)"
   ]
  },
  {
   "cell_type": "code",
   "execution_count": null,
   "metadata": {},
   "outputs": [],
   "source": []
  }
 ],
 "metadata": {
  "kernelspec": {
   "display_name": "base",
   "language": "python",
   "name": "python3"
  },
  "language_info": {
   "codemirror_mode": {
    "name": "ipython",
    "version": 3
   },
   "file_extension": ".py",
   "mimetype": "text/x-python",
   "name": "python",
   "nbconvert_exporter": "python",
   "pygments_lexer": "ipython3",
   "version": "3.10.12"
  }
 },
 "nbformat": 4,
 "nbformat_minor": 2
}
