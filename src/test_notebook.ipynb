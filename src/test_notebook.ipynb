{
 "cells": [
  {
   "cell_type": "code",
   "execution_count": 3,
   "metadata": {},
   "outputs": [],
   "source": [
    "from objects import *\n",
    "from functions import *"
   ]
  },
  {
   "cell_type": "markdown",
   "metadata": {},
   "source": [
    "### Accounts"
   ]
  },
  {
   "cell_type": "code",
   "execution_count": 6,
   "metadata": {},
   "outputs": [
    {
     "name": "stdout",
     "output_type": "stream",
     "text": [
      "Successfully created account ! \n",
      "Name: test 1 \n",
      "Type: checking \n",
      "Amount: 1000\n",
      "Successfully deposited 100 into account test 1. \n",
      " New amount: 1100\n",
      "Successfully withdrew 1050.5 from account test 1. \n",
      " New amount: 49.5\n",
      "Successfully created account ! \n",
      "Name: test 2 \n",
      "Type: savings \n",
      "Amount: 500\n",
      "Successfully deposited 50 into account test 2. \n",
      " New amount: 550\n",
      "Successfully withdrew 100 from account test 2. \n",
      " New amount: 450\n"
     ]
    }
   ],
   "source": [
    "test_account = Account(name=\"test 1\", type=\"checking\", amount=1000)\n",
    "test_account.deposit(100, transaction_id=\"1\")\n",
    "test_account.withdraw(1050.50, transaction_id=\"2\")\n",
    "test_account.save()\n",
    "\n",
    "other_test_account = Account(name=\"test 2\", type=\"savings\", amount=500)\n",
    "other_test_account.deposit(50, transaction_id=\"1\")\n",
    "other_test_account.withdraw(100, transaction_id=\"2\")\n",
    "other_test_account.save()"
   ]
  },
  {
   "cell_type": "markdown",
   "metadata": {},
   "source": [
    "### Budgets"
   ]
  },
  {
   "cell_type": "code",
   "execution_count": 7,
   "metadata": {},
   "outputs": [
    {
     "name": "stdout",
     "output_type": "stream",
     "text": [
      "Successfully created a budget:\n",
      "name: test\n",
      "month: August\n",
      "amount: 500\n",
      "Added 100 to budget test. New amount: 600\n",
      "Removed 50 from budget test. New amount: 550\n"
     ]
    },
    {
     "ename": "ValueError",
     "evalue": "A budget with the name test and month August already exists.",
     "output_type": "error",
     "traceback": [
      "\u001b[0;31m---------------------------------------------------------------------------\u001b[0m",
      "\u001b[0;31mValueError\u001b[0m                                Traceback (most recent call last)",
      "Cell \u001b[0;32mIn[7], line 5\u001b[0m\n\u001b[1;32m      3\u001b[0m test_budget\u001b[38;5;241m.\u001b[39mwithdraw_amount(\u001b[38;5;241m50\u001b[39m, transaction_id\u001b[38;5;241m=\u001b[39m\u001b[38;5;124m\"\u001b[39m\u001b[38;5;124m2\u001b[39m\u001b[38;5;124m\"\u001b[39m)\n\u001b[1;32m      4\u001b[0m test_budget\n\u001b[0;32m----> 5\u001b[0m \u001b[43mtest_budget\u001b[49m\u001b[38;5;241;43m.\u001b[39;49m\u001b[43msave\u001b[49m\u001b[43m(\u001b[49m\u001b[43m)\u001b[49m\n",
      "File \u001b[0;32m~/OneDrive/Developpement/repo/data-corpus/my_banking_app/src/objects.py:282\u001b[0m, in \u001b[0;36mBudget.save\u001b[0;34m(self, budget_path)\u001b[0m\n\u001b[1;32m    280\u001b[0m \u001b[38;5;66;03m# Check if a budget with the same name and month already exists\u001b[39;00m\n\u001b[1;32m    281\u001b[0m \u001b[38;5;28;01mif\u001b[39;00m ((budget_table[\u001b[38;5;124m'\u001b[39m\u001b[38;5;124mname\u001b[39m\u001b[38;5;124m'\u001b[39m] \u001b[38;5;241m==\u001b[39m \u001b[38;5;28mself\u001b[39m\u001b[38;5;241m.\u001b[39mname) \u001b[38;5;241m&\u001b[39m (budget_table[\u001b[38;5;124m'\u001b[39m\u001b[38;5;124mmonth\u001b[39m\u001b[38;5;124m'\u001b[39m] \u001b[38;5;241m==\u001b[39m \u001b[38;5;28mself\u001b[39m\u001b[38;5;241m.\u001b[39mmonth))\u001b[38;5;241m.\u001b[39many():\n\u001b[0;32m--> 282\u001b[0m     \u001b[38;5;28;01mraise\u001b[39;00m \u001b[38;5;167;01mValueError\u001b[39;00m(\u001b[38;5;124mf\u001b[39m\u001b[38;5;124m\"\u001b[39m\u001b[38;5;124mA budget with the name \u001b[39m\u001b[38;5;132;01m{\u001b[39;00m\u001b[38;5;28mself\u001b[39m\u001b[38;5;241m.\u001b[39mname\u001b[38;5;132;01m}\u001b[39;00m\u001b[38;5;124m and month \u001b[39m\u001b[38;5;132;01m{\u001b[39;00m\u001b[38;5;28mself\u001b[39m\u001b[38;5;241m.\u001b[39mmonth\u001b[38;5;132;01m}\u001b[39;00m\u001b[38;5;124m already exists.\u001b[39m\u001b[38;5;124m\"\u001b[39m)\n\u001b[1;32m    285\u001b[0m new_budget_row \u001b[38;5;241m=\u001b[39m pd\u001b[38;5;241m.\u001b[39mSeries(\u001b[38;5;28mself\u001b[39m\u001b[38;5;241m.\u001b[39m\u001b[38;5;18m__dict__\u001b[39m)\n\u001b[1;32m    286\u001b[0m budget_table \u001b[38;5;241m=\u001b[39m pd\u001b[38;5;241m.\u001b[39mconcat([budget_table, new_budget_row\u001b[38;5;241m.\u001b[39mto_frame()\u001b[38;5;241m.\u001b[39mT], ignore_index\u001b[38;5;241m=\u001b[39m\u001b[38;5;28;01mTrue\u001b[39;00m)\n",
      "\u001b[0;31mValueError\u001b[0m: A budget with the name test and month August already exists."
     ]
    }
   ],
   "source": [
    "test_budget = Budget(name=\"test\", month=\"August\", amount=500)\n",
    "test_budget.add_amount(100)\n",
    "test_budget.withdraw_amount(50, transaction_id=\"2\")\n",
    "test_budget\n",
    "test_budget.save()"
   ]
  },
  {
   "cell_type": "markdown",
   "metadata": {},
   "source": [
    "### Transactions"
   ]
  },
  {
   "cell_type": "code",
   "execution_count": 4,
   "metadata": {},
   "outputs": [
    {
     "data": {
      "text/plain": [
       "{'id': 'df309a2b139744a8a07f20bcf72bb98a',\n",
       " 'date': '2024-05-04 19:21:20',\n",
       " 'type': 'debit',\n",
       " 'origin_account': 'test 1',\n",
       " 'destination_account': None,\n",
       " 'amount': 30,\n",
       " 'budget': None}"
      ]
     },
     "execution_count": 4,
     "metadata": {},
     "output_type": "execute_result"
    }
   ],
   "source": [
    "transaction = generate_transaction(type=\"debit\",\n",
    "                     origin_account=\"test 1\",\n",
    "                     destination_account=None,\n",
    "                     amount=30,\n",
    "                     budget=None)\n",
    "\n",
    "transaction"
   ]
  },
  {
   "cell_type": "code",
   "execution_count": 5,
   "metadata": {},
   "outputs": [
    {
     "data": {
      "text/plain": [
       "{'id': 'df309a2b139744a8a07f20bcf72bb98a',\n",
       " 'date': '2024-05-04 19:21:20',\n",
       " 'type': 'debit',\n",
       " 'origin_account': 'test 1',\n",
       " 'destination_account': None,\n",
       " 'amount': 30,\n",
       " 'budget': None}"
      ]
     },
     "execution_count": 5,
     "metadata": {},
     "output_type": "execute_result"
    }
   ],
   "source": [
    "apply_transaction(transaction)"
   ]
  },
  {
   "cell_type": "code",
   "execution_count": null,
   "metadata": {},
   "outputs": [],
   "source": []
  }
 ],
 "metadata": {
  "kernelspec": {
   "display_name": ".venv",
   "language": "python",
   "name": "python3"
  },
  "language_info": {
   "codemirror_mode": {
    "name": "ipython",
    "version": 3
   },
   "file_extension": ".py",
   "mimetype": "text/x-python",
   "name": "python",
   "nbconvert_exporter": "python",
   "pygments_lexer": "ipython3",
   "version": "3.10.12"
  }
 },
 "nbformat": 4,
 "nbformat_minor": 2
}
