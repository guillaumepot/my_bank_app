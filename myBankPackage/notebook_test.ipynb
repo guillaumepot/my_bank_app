{
 "cells": [
  {
   "cell_type": "code",
   "execution_count": 1,
   "metadata": {},
   "outputs": [],
   "source": [
    "from __init__ import *\n",
    "\n",
    "# Path to the budget folder\n",
    "budget_path = os.getenv(\"BUDGET_PATH\", \"./test_budgets/\") \n",
    "# Path to the account folder\n",
    "account_path = os.getenv(\"ACCOUNT_PATH\", \"./test_accounts/\")\n",
    "# Path to the transaction folder\n",
    "transaction_path = os.getenv(\"TRANSACTION_PATH\", \"./test_transactions/test_transactions.csv\")"
   ]
  },
  {
   "cell_type": "markdown",
   "metadata": {},
   "source": [
    "### Account"
   ]
  },
  {
   "cell_type": "code",
   "execution_count": 2,
   "metadata": {},
   "outputs": [],
   "source": [
    "test_account = Account(name=\"test_account\",\n",
    "                       type=\"checking\",\n",
    "                       amount=1000)"
   ]
  },
  {
   "cell_type": "code",
   "execution_count": 3,
   "metadata": {},
   "outputs": [
    {
     "data": {
      "text/plain": [
       "Account(name='test_account', type='checking', amount=0, id='4ab126a45a17418ca77b6cc9fffd116a', history=[{'date': '2024-05-11 08:21:25', 'transaction_id': '1', 'type': 'withdraw', 'amount': 1000}])"
      ]
     },
     "execution_count": 3,
     "metadata": {},
     "output_type": "execute_result"
    }
   ],
   "source": [
    "test_account.withdraw(1000, transaction_id=\"1\")\n",
    "test_account"
   ]
  },
  {
   "cell_type": "code",
   "execution_count": 4,
   "metadata": {},
   "outputs": [
    {
     "data": {
      "text/plain": [
       "Account(name='test_account', type='checking', amount=500, id='4ab126a45a17418ca77b6cc9fffd116a', history=[{'date': '2024-05-11 08:21:25', 'transaction_id': '1', 'type': 'withdraw', 'amount': 1000}, {'date': '2024-05-11 08:21:27', 'transaction_id': '2', 'type': 'deposit', 'amount': 500}])"
      ]
     },
     "execution_count": 4,
     "metadata": {},
     "output_type": "execute_result"
    }
   ],
   "source": [
    "test_account.deposit(500, transaction_id=\"2\")\n",
    "test_account"
   ]
  },
  {
   "cell_type": "code",
   "execution_count": 5,
   "metadata": {},
   "outputs": [],
   "source": [
    "test_account.save()"
   ]
  },
  {
   "cell_type": "code",
   "execution_count": 7,
   "metadata": {},
   "outputs": [],
   "source": [
    "loaded_test_account = load_account(account_path=account_path,\n",
    "                                   account_name=\"test_account\")"
   ]
  },
  {
   "cell_type": "code",
   "execution_count": 8,
   "metadata": {},
   "outputs": [
    {
     "data": {
      "text/plain": [
       "Account(name='test_account', type='checking', amount=475, id='4ab126a45a17418ca77b6cc9fffd116a', history=[{'date': '2024-05-11 08:21:25', 'transaction_id': '1', 'type': 'withdraw', 'amount': 1000}, {'date': '2024-05-11 08:21:27', 'transaction_id': '2', 'type': 'deposit', 'amount': 500}, {'date': '2024-05-11 09:05:17', 'transaction_id': '9ddf19de74eb429c9c61e5740a571ec6', 'type': 'withdraw', 'amount': 25}])"
      ]
     },
     "execution_count": 8,
     "metadata": {},
     "output_type": "execute_result"
    }
   ],
   "source": [
    "loaded_test_account"
   ]
  },
  {
   "cell_type": "markdown",
   "metadata": {},
   "source": [
    "### Budget"
   ]
  },
  {
   "cell_type": "code",
   "execution_count": 2,
   "metadata": {},
   "outputs": [],
   "source": [
    "test_budget = Budget(name=\"test_budget\",\n",
    "                       month=\"January\",\n",
    "                       amount=1000)"
   ]
  },
  {
   "cell_type": "code",
   "execution_count": 3,
   "metadata": {},
   "outputs": [
    {
     "data": {
      "text/plain": [
       "Budget(name='test_budget', month='January', amount=0, id='f7e1ad79e8be4c7eac5204cb8e14b127', history=[{'date': '2024-05-11 08:31:10', 'transaction_id': '1', 'amount': 1000}])"
      ]
     },
     "execution_count": 3,
     "metadata": {},
     "output_type": "execute_result"
    }
   ],
   "source": [
    "test_budget.withdraw(1000, transaction_id=\"1\")\n",
    "test_budget"
   ]
  },
  {
   "cell_type": "code",
   "execution_count": 4,
   "metadata": {},
   "outputs": [
    {
     "data": {
      "text/plain": [
       "Budget(name='test_budget', month='January', amount=500, id='f7e1ad79e8be4c7eac5204cb8e14b127', history=[{'date': '2024-05-11 08:31:10', 'transaction_id': '1', 'amount': 1000}, {'date': '2024-05-11 08:31:11', 'transaction_id': '2', 'amount': 500}])"
      ]
     },
     "execution_count": 4,
     "metadata": {},
     "output_type": "execute_result"
    }
   ],
   "source": [
    "test_budget.deposit(500, transaction_id=\"2\")\n",
    "test_budget"
   ]
  },
  {
   "cell_type": "code",
   "execution_count": 5,
   "metadata": {},
   "outputs": [],
   "source": [
    "test_budget.save()"
   ]
  },
  {
   "cell_type": "code",
   "execution_count": 5,
   "metadata": {},
   "outputs": [],
   "source": [
    "loaded_test_budget = load_budget(budget_path=budget_path,\n",
    "                                   budget_name=\"test_budget\",\n",
    "                                   budget_month=\"January\")"
   ]
  },
  {
   "cell_type": "code",
   "execution_count": 6,
   "metadata": {},
   "outputs": [
    {
     "data": {
      "text/plain": [
       "Budget(name='test_budget', month='January', amount=475, id='f7e1ad79e8be4c7eac5204cb8e14b127', history=[{'date': '2024-05-11 08:31:10', 'transaction_id': '1', 'amount': 1000}, {'date': '2024-05-11 08:31:11', 'transaction_id': '2', 'amount': 500}, {'date': '2024-05-11 09:05:17', 'transaction_id': '9ddf19de74eb429c9c61e5740a571ec6', 'amount': 25}])"
      ]
     },
     "execution_count": 6,
     "metadata": {},
     "output_type": "execute_result"
    }
   ],
   "source": [
    "loaded_test_budget"
   ]
  },
  {
   "cell_type": "markdown",
   "metadata": {},
   "source": [
    "### Transactions"
   ]
  },
  {
   "cell_type": "code",
   "execution_count": 2,
   "metadata": {},
   "outputs": [],
   "source": [
    "test_transaction = Transaction(type=\"debit\",\n",
    "                               amount=25,\n",
    "                               origin_account=\"test_account\",\n",
    "                               destination_account=None,\n",
    "                               budget=\"test_budget\",\n",
    "                               budget_month=\"January\",\n",
    "                               description=\"test debit on test account and test budget (January)\")"
   ]
  },
  {
   "cell_type": "code",
   "execution_count": 3,
   "metadata": {},
   "outputs": [
    {
     "data": {
      "text/plain": [
       "Transaction(id='9ddf19de74eb429c9c61e5740a571ec6', date='2024-05-11', type='debit', amount=25, origin_account='test_account', destination_account=None, budget='test_budget', budget_month='January', description='test debit on test account and test budget (January)')"
      ]
     },
     "execution_count": 3,
     "metadata": {},
     "output_type": "execute_result"
    }
   ],
   "source": [
    "test_transaction"
   ]
  },
  {
   "cell_type": "code",
   "execution_count": 4,
   "metadata": {},
   "outputs": [],
   "source": [
    "test_transaction.save(transaction_path=transaction_path)"
   ]
  },
  {
   "cell_type": "code",
   "execution_count": 4,
   "metadata": {},
   "outputs": [
    {
     "name": "stdout",
     "output_type": "stream",
     "text": [
      "Existing account test_account will be overwritten.\n"
     ]
    }
   ],
   "source": [
    "test_transaction.apply(account_path=account_path,\n",
    "                       budget_path=budget_path)"
   ]
  },
  {
   "cell_type": "code",
   "execution_count": null,
   "metadata": {},
   "outputs": [],
   "source": []
  }
 ],
 "metadata": {
  "kernelspec": {
   "display_name": ".venv",
   "language": "python",
   "name": "python3"
  },
  "language_info": {
   "codemirror_mode": {
    "name": "ipython",
    "version": 3
   },
   "file_extension": ".py",
   "mimetype": "text/x-python",
   "name": "python",
   "nbconvert_exporter": "python",
   "pygments_lexer": "ipython3",
   "version": "3.10.12"
  }
 },
 "nbformat": 4,
 "nbformat_minor": 2
}
